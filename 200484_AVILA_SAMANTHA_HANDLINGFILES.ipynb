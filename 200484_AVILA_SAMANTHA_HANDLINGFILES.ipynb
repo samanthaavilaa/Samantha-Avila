{
 "cells": [
  {
   "cell_type": "markdown",
   "id": "40a4cec3-5075-4121-88a1-44ef2c97c266",
   "metadata": {},
   "source": [
    "# Assignment: Handling Files\n",
    "\n",
    "This assignment serves as a general synthesis for Module 4. It also serves as your introduction to using files and to coding Python _outside_ of Jupyter.  \n",
    "\n",
    "Please follow all instructions precisely. This is especially important in this assignment, which will ask you to submit a `.py` file instead of a `.ipynb` file."
   ]
  },
  {
   "cell_type": "markdown",
   "id": "d5e7b062-4848-460f-a311-f4ca3c423ddd",
   "metadata": {},
   "source": [
    "## Context\n",
    "\n",
    "**CoffeePython** is a specialty coffee place along Katipunan. It commissioned students to build a crude character-mode terminal based on Python and it ran pretty well.  \n",
    "\n",
    "Due to the Covid-19 Pandemic that forced businesses to shut down, however, it had to pivot its business to online deliveries. The direction, however, is to make sure that the current Point-of-Sale (POS) system being used in the branches still works. There are some missing pieces that need to be reprogrammed again.  \n",
    "\n",
    "CoffeePython has the following products:  \n",
    "\n",
    "| Code | ProductName | Price |\n",
    "| --- | --- | --- |\n",
    "| americano | Americano | 150.00 |\n",
    "| brewedcoffee | Brewed Coffee | 150.00 |\n",
    "| cappuccino | Cappuccino | 150.00 |\n",
    "| dalgona | Dalgona | 150.00 |\n",
    "| espresso | Espresso | 150.00 |\n",
    "| frappuccino | Frappuccino | 150.00 |  \n",
    "\n",
    "The old programmers of Coffee Python encoded this data in a dictionary:"
   ]
  },
  {
   "cell_type": "code",
   "execution_count": 2,
   "id": "f5740def-08bd-4bfa-8179-da9d5c8a7ff3",
   "metadata": {},
   "outputs": [],
   "source": [
    "# NON-INTERACTIVE CODE CELL. YOU MAY RUN THIS CELL, BUT DO NOT EDIT IT.\n",
    "# FOR DEMONSTRATION PURPOSES ONLY. DO NOT EDIT.\n",
    "\n",
    "products = {\n",
    "    \"americano\":{\"name\":\"Americano\",\"price\":150.00},\n",
    "    \"brewedcoffee\":{\"name\":\"Brewed Coffee\",\"price\":110.00},\n",
    "    \"cappuccino\":{\"name\":\"Cappuccino\",\"price\":170.00},\n",
    "    \"dalgona\":{\"name\":\"Dalgona\",\"price\":170.00},\n",
    "    \"espresso\":{\"name\":\"Espresso\",\"price\":140.00},\n",
    "    \"frappuccino\":{\"name\":\"Frappuccino\",\"price\":170.00},\n",
    "}"
   ]
  },
  {
   "cell_type": "markdown",
   "id": "ea04be59-11d0-4da1-95b3-777822a0c90a",
   "metadata": {},
   "source": [
    "## Problem 1: Product Information Lookup\n",
    "\n",
    "Write a function called `get_product` that takes one positional argument (str) `code` that is a product code of one of Coffee Python's products. The function should return the dictionary containing the information about the product whose code was passed to the function.  \n",
    "\n",
    "For example,  \n",
    "`get_product(\"espresso\")`  \n",
    "\n",
    "should return\n",
    "\n",
    "`{\"name\":\"Espresso\",\"price\":140.00}`"
   ]
  },
  {
   "cell_type": "code",
   "execution_count": 3,
   "id": "3e606498-b9cb-494d-ad22-4d17017ac37b",
   "metadata": {},
   "outputs": [
    {
     "data": {
      "text/plain": [
       "{'name': 'Americano', 'price': 150.0}"
      ]
     },
     "execution_count": 3,
     "metadata": {},
     "output_type": "execute_result"
    }
   ],
   "source": [
    "# CODE CELL\n",
    "# PROBLEM 1\n",
    "\n",
    "def get_product(code):\n",
    "    if code in products:\n",
    "        return (products[code])\n",
    "    else:\n",
    "        None\n",
    "\n",
    "get_product(\"americano\")"
   ]
  },
  {
   "cell_type": "markdown",
   "id": "f5798efd-75f3-4107-9a15-56a550f604b5",
   "metadata": {},
   "source": [
    "## Problem 2: Product Property Lookup\n",
    "\n",
    "Write a function called `get_property` that takes two positional arguments: (str) `code` and (str) `property`. The function should return the value appropriate property for the product code entered.  \n",
    "\n",
    "For example,  \n",
    "`get_property(\"espresso\", \"price\")`  \n",
    "\n",
    "should return  \n",
    "\n",
    "`140.0` or an equivalent float.  "
   ]
  },
  {
   "cell_type": "code",
   "execution_count": 4,
   "id": "a07b419b-8a5f-44a6-af09-4cbef3b29e61",
   "metadata": {},
   "outputs": [
    {
     "data": {
      "text/plain": [
       "140.0"
      ]
     },
     "execution_count": 4,
     "metadata": {},
     "output_type": "execute_result"
    }
   ],
   "source": [
    "# CODE CELL\n",
    "# PROBLEM 2\n",
    "\n",
    "def get_property(code,property):\n",
    "    if code in products and property in products[code]:\n",
    "        return (products[code][property])\n",
    "    else:\n",
    "        return None\n",
    "\n",
    "get_property(\"espresso\", \"price\")"
   ]
  },
  {
   "cell_type": "markdown",
   "id": "3902ee4a-aef0-4efa-bbf9-ada8f137eadb",
   "metadata": {},
   "source": [
    "## Problem 3: The Point-of-Sale Terminal\n",
    "\n",
    "Write a function called `main` that takes no positional arguments. This function should not return anything.  \n",
    "\n",
    "When this function is called, it should begin a session. The session should prompt its user, the clerk, to input data about a customer's orders until the clerk enters the string `\"/\"`.  \n",
    "\n",
    "Each line of input consists of two elements: the product code and the quantity. Lines of input are formatted as follows: `\"{product_code},{quantity}\"`.  \n",
    "\n",
    "It is up to you how you will store data about orders. Please use your functions from Problem 1 and Problem 2 in answering this problem.  \n",
    "\n",
    "The function should _write a file_ called `receipt.txt` that provides a summarized report of the session. The receipt should be formatted as follows:  "
   ]
  },
  {
   "cell_type": "code",
   "execution_count": 5,
   "id": "6102d24c-b4de-4071-8cbb-bbe27b7302ef",
   "metadata": {},
   "outputs": [
    {
     "name": "stdout",
     "output_type": "stream",
     "text": [
      "\n",
      "==\n",
      "CODE\t\t\tNAME\t\t\tQUANTITY\t\t\tSUBTOTAL\n",
      "{code}\t\t\t{name}\t\t\t{quantity}\t\t\t{subtotal}\n",
      "\n",
      "Total:\t\t\t\t\t\t\t\t\t\t{total}\n",
      "==\n",
      "\n"
     ]
    }
   ],
   "source": [
    "# NON-INTERACTIVE CODE CELL. YOU MAY RUN THIS CELL, BUT DO NOT EDIT IT.\n",
    "# FOR DEMONSTRATION PURPOSES ONLY. DO NOT EDIT.  \n",
    "\n",
    "# ADJUST THE NUMBER OF TABS AS NECESSARY TO FORMAT IT NICELY.\n",
    "print('''\n",
    "==\n",
    "CODE\\t\\t\\tNAME\\t\\t\\tQUANTITY\\t\\t\\tSUBTOTAL\n",
    "{code}\\t\\t\\t{name}\\t\\t\\t{quantity}\\t\\t\\t{subtotal}\n",
    "\n",
    "Total:\\t\\t\\t\\t\\t\\t\\t\\t\\t\\t{total}\n",
    "==\n",
    "''')"
   ]
  },
  {
   "cell_type": "code",
   "execution_count": 6,
   "id": "a09938ee-9d89-4f62-8014-f90ac38db71c",
   "metadata": {},
   "outputs": [
    {
     "name": "stdout",
     "output_type": "stream",
     "text": [
      "\n",
      "==\n",
      "CODE\t\t\tNAME\t\t\tQUANTITY\t\t\tSUBTOTAL\n",
      "cappuccino\t\tCappuccino\t\t1\t\t\t\t170.0\n",
      "brewedcoffee\t\tBrewed Coffee\t\t5\t\t\t\t550.0\n",
      "\n",
      "Total:\t\t\t\t\t\t\t\t\t\t720.0\n",
      "==\n",
      "\n"
     ]
    }
   ],
   "source": [
    "# NON-INTERACTIVE CODE CELL. YOU MAY RUN THIS CELL, BUT DO NOT EDIT IT.\n",
    "# FOR DEMONSTRATION PURPOSES ONLY. DO NOT EDIT.  \n",
    "\n",
    "# Example:\n",
    "print('''\n",
    "==\n",
    "CODE\\t\\t\\tNAME\\t\\t\\tQUANTITY\\t\\t\\tSUBTOTAL\n",
    "cappuccino\\t\\tCappuccino\\t\\t1\\t\\t\\t\\t170.0\n",
    "brewedcoffee\\t\\tBrewed Coffee\\t\\t5\\t\\t\\t\\t550.0\n",
    "\n",
    "Total:\\t\\t\\t\\t\\t\\t\\t\\t\\t\\t720.0\n",
    "==\n",
    "''')"
   ]
  },
  {
   "cell_type": "markdown",
   "id": "b550a2d3-b62e-4259-bc46-dbe21d878758",
   "metadata": {},
   "source": [
    "Specifications:\n",
    "1. The receipt should provide a summary of all the orders made during the session.  \n",
    "2. A product must only appear if it has been ordered at least once during the session. In other words, if a product is not ordered, then it should not appear in the receipt.  \n",
    "3. A product must appear only once even if it has been ordered multiple times. In other words, if a product is ordered multiple times, then it should only have one entry in the receipt that describes the sum of all of the orders made for that product.\n",
    "4. Products must appear in alphabetical order."
   ]
  },
  {
   "cell_type": "code",
   "execution_count": 26,
   "id": "ae43e82b-592c-40a9-9c69-49442577f5a7",
   "metadata": {},
   "outputs": [
    {
     "name": "stdout",
     "output_type": "stream",
     "text": [
      "{product_code},{quantity}: cappuccino,1\n",
      "{product_code},{quantity}: brewedcoffee,5\n",
      "{product_code},{quantity}: /\n"
     ]
    }
   ],
   "source": [
    "# CODE CELL\n",
    "# PROBLEM 3\n",
    "\n",
    "def get_product(code):\n",
    "    if code in products:\n",
    "        return (products[code])\n",
    "    else:\n",
    "        None\n",
    "\n",
    "get_product(\"americano\")\n",
    "\n",
    "def get_property(code,property):\n",
    "    if code in products and property in products[code]:\n",
    "        return (products[code][property])\n",
    "    else:\n",
    "        return None\n",
    "\n",
    "get_property(\"espresso\", \"price\")\n",
    "\n",
    "def main():\n",
    "    with open(\"receipt.txt\", \"w\") as f:\n",
    "        \n",
    "        order = 0\n",
    "        \n",
    "        while True:\n",
    "            code = input(\"{product_code},{quantity}: \")\n",
    "            \n",
    "            if code.split(',')[0] in products:\n",
    "                get_product(code.split(\",\")[0]).setdefault(\"amount\", 0)\n",
    "                get_product(code.split(\",\")[0])[\"amount\"] += int(code.split(\",\")[1])\n",
    "            else:\n",
    "                order == \"/\"\n",
    "                break\n",
    "\n",
    "        f.write(\"==\")\n",
    "        f.write(\"\\n\")\n",
    "        f.write(\"\\n\")\n",
    "        f.write(\"CODE\\t\\t\\tNAME\\t\\t\\tQUANTITY\\t\\t\\tSUBTOTAL\")\n",
    "        f.write(\"\\n\")\n",
    "        for i in products:\n",
    "            get_product(i).setdefault(\"amount\", 0)\n",
    "        for i in products:\n",
    "            if get_product(i)[\"amount\"] != 0:\n",
    "                f.write(i + \" \\t\\t\"+ get_property(i, \"name\") + \" \\t\\t\" + str(get_property(i, \"amount\")) + \"\\t\\t\\t\\t\\t\" +  str(get_property(i, \"price\") * get_property(i, \"amount\")) + \"\\n\")\n",
    "                order += get_property(i, \"amount\") * get_property(i, \"price\")\n",
    "        f.write(\"\\n\")\n",
    "        f.write(\"\\nTotal:\\t\\t\\t\\t\\t\\t\\t\\t\\t\\t\\t\\t\" + str(order))\n",
    "        f.write(\"\\n\")\n",
    "        f.write(\"\\n\")\n",
    "        f.write(\"==\")\n",
    "            \n",
    "main()"
   ]
  },
  {
   "cell_type": "markdown",
   "id": "900ece59-6eb3-4542-ac80-c79310be4617",
   "metadata": {},
   "source": [
    "## Problem 4: Final Instructions (28 points)\n",
    "\n",
    "Paste the `products` dictionary and all three of your functions into a regular Python file called `[ID_NUM]_[LAST_NAME]_[FIRST_NAME]_HANDLINGFILES.py` (e.g., 199999_ILAGAN_JOSERAMON_HANDLINGFILES.py) and call the `main()` function once at the very bottom of the file.  \n",
    "\n",
    "The program should run properly when it is run using the `python` command.  \n",
    "\n",
    "Only Python files will be checked. Jupyter notebooks will not be checked.  "
   ]
  },
  {
   "cell_type": "code",
   "execution_count": null,
   "id": "e3aa327e",
   "metadata": {},
   "outputs": [],
   "source": []
  },
  {
   "cell_type": "code",
   "execution_count": null,
   "id": "9c961d47-8b5f-4989-865e-3842f1f48b6b",
   "metadata": {},
   "outputs": [],
   "source": []
  }
 ],
 "metadata": {
  "kernelspec": {
   "display_name": "Python 3",
   "language": "python",
   "name": "python3"
  },
  "language_info": {
   "codemirror_mode": {
    "name": "ipython",
    "version": 3
   },
   "file_extension": ".py",
   "mimetype": "text/x-python",
   "name": "python",
   "nbconvert_exporter": "python",
   "pygments_lexer": "ipython3",
   "version": "3.8.8"
  }
 },
 "nbformat": 4,
 "nbformat_minor": 5
}
