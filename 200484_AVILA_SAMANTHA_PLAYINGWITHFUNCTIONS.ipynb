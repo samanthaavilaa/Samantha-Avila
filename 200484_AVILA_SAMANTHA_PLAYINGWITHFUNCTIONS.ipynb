{
 "cells": [
  {
   "cell_type": "markdown",
   "id": "b311cd50-76d0-4eff-aacf-c954d7783de3",
   "metadata": {},
   "source": [
    "# Assignment: Playing with Functions\n",
    "\n",
    "This problem set aims to serve as a stepping stone from basic Python to intermediate Python.  "
   ]
  },
  {
   "cell_type": "markdown",
   "id": "7843e78a-c77f-4662-900c-714330ada001",
   "metadata": {},
   "source": [
    "## Problem 1\n",
    "## Factorial (1 point)\n",
    "\n",
    "The **factorial** of a number is the product of that number and all the numbers below it. For example, 5 factorial (denoted 5! in math) is 5 * 4 * 3 * 2 * 1, which is 120.  \n",
    "\n",
    "**Write a function called `problem_1` that takes one positional argument `number`. The function should return  the factorial of `number` as an integer.**\n",
    "\n",
    "Example input/output:  \n",
    "`problem_1(5)` => `120`  \n",
    "`problem_1(10)` => `3628800`  "
   ]
  },
  {
   "cell_type": "code",
   "execution_count": 1,
   "id": "a844e7eb",
   "metadata": {},
   "outputs": [
    {
     "data": {
      "text/plain": [
       "3628800"
      ]
     },
     "execution_count": 1,
     "metadata": {},
     "output_type": "execute_result"
    }
   ],
   "source": [
    "def problem_1(number):\n",
    "    if number == 0 or number == 1:\n",
    "        return 1\n",
    "    elif number < 0:\n",
    "        return (\"Does not exist\")\n",
    "    else:\n",
    "        return number * problem_1(number-1)\n",
    "\n",
    "problem_1(5)\n",
    "problem_1(10)"
   ]
  },
  {
   "cell_type": "markdown",
   "id": "b95d08a5-e4f9-4bb4-8e18-e09e629df96b",
   "metadata": {},
   "source": [
    "## Problem 2\n",
    "## Guessing Game (2 points) \n",
    "\n",
    "Recall that we use `input()` to ask for user input.  \n",
    "\n",
    "**Write a function called `problem_2` that takes one positional argument `passphrase`. The function should ask the user to enter the passphrase with `input()`. If the user enters the correct passphrase, the function should return the integer `1`. If the user enters the wrong passphrase, the function should keep asking them for the passphrase. If the user gets the passphrase wrong 3 times, the function should return the integer `0`.**  \n",
    "\n",
    "Example input/output:  \n",
    "\n",
    "Function input:  \n",
    "`problem_2(\"chums\")`  \n",
    "Simulated user input:  \n",
    "`joben`  \n",
    "`chums`  \n",
    "Output:  \n",
    "`1`  \n",
    "\n",
    "Function input:  \n",
    "`problem_2(\"annika\")`  \n",
    "Simulated user input:  \n",
    "`joe`  \n",
    "`earl`  \n",
    "`niks`  \n",
    "Output:  \n",
    "`0`"
   ]
  },
  {
   "cell_type": "code",
   "execution_count": 5,
   "id": "948e9ab7-85e3-417e-914d-c1c27bdbfcdb",
   "metadata": {},
   "outputs": [
    {
     "name": "stdout",
     "output_type": "stream",
     "text": [
      "joe\n",
      "earl\n",
      "niks\n"
     ]
    },
    {
     "data": {
      "text/plain": [
       "0"
      ]
     },
     "execution_count": 5,
     "metadata": {},
     "output_type": "execute_result"
    }
   ],
   "source": [
    "def problem_2(passphrase):\n",
    "    count = 0\n",
    "    while (count < 3):\n",
    "        passphrase_input = input()\n",
    "        \n",
    "        if passphrase_input == passphrase:\n",
    "            return 1\n",
    "        else:\n",
    "            count += 1\n",
    "    return 0\n",
    "\n",
    "problem_2(\"annika\")"
   ]
  },
  {
   "cell_type": "markdown",
   "id": "1b434f41-8e16-4a4d-a8d0-96be3ed2a309",
   "metadata": {},
   "source": [
    "## Problem 3\n",
    "## Temperature Converter (3 points)\n",
    "\n",
    "A common beginner's exercise is to write a function that can convert a temperature value from one format, such as Fahrenheit, to another, such as Celsius.  \n",
    "\n",
    "In this problem, extend this idea to convert temperatures freely to and from any of the following formats: Celsius, Fahrenheit, and Kelvin.  \n",
    "\n",
    "**Write a function called `problem_3` that takes three positional arguments: (float) `temp`, (string) `original_format`, (string) `new_format`. The function should convert `temp`, which is represented in `original_format`, to its equivalent value in the `new_format.`**  \n",
    "\n",
    "Example input/output:  \n",
    "`problem_3(0.0, \"Celsius\", \"Fahrenheit\")` => `32.0`  \n",
    "`problem_3(500.0, \"Kelvin\", \"Fahrenheit\")` => `440.33`  \n",
    "`problem_3(273.0, \"Kelvin\", \"Celsius\")` => `0.0`  \n",
    "\n",
    "For your convenience:  \n",
    "1. The accuracy of your float outputs will only be evaluated to within 2 decimal places. (In other words: don't worry too much about getting the calculation *exactly* right.)"
   ]
  },
  {
   "cell_type": "code",
   "execution_count": 3,
   "id": "652183db-4f42-40cf-b8cf-f0120914b86b",
   "metadata": {},
   "outputs": [
    {
     "data": {
      "text/plain": [
       "-0.14999999999997726"
      ]
     },
     "execution_count": 3,
     "metadata": {},
     "output_type": "execute_result"
    }
   ],
   "source": [
    "def problem_3(temp,original_format,new_format):\n",
    "    if original_format == \"Celsius\" and new_format == \"Fahrenheit\":\n",
    "        return temp * (9/5) + 32\n",
    "    elif original_format == \"Celsius\" and new_format == \"Kelvin\":\n",
    "        return temp + 273.15\n",
    "    elif original_format == \"Kelvin\" and new_format == \"Fahrenheit\":\n",
    "        return (temp - 273.15) * 9/5 + 32\n",
    "    elif original_format == \"Kelvin\" and new_format == \"Celsius\":\n",
    "        return temp - 273.15\n",
    "    elif original_format == \"Fahrenheit\" and new_format == \"Celsius\":\n",
    "        return (temp - 32) * 5/9\n",
    "    else:\n",
    "        original_format == \"Fahrenheit\" and new_format == \"Kelvin\"\n",
    "        return (temp - 32) * 5/9 + 273.15\n",
    "\n",
    "problem_3(0.0, \"Celsius\", \"Fahrenheit\")\n",
    "problem_3(500.0, \"Kelvin\", \"Fahrenheit\")\n",
    "problem_3(273.0, \"Kelvin\", \"Celsius\")"
   ]
  },
  {
   "cell_type": "markdown",
   "id": "f12ed1ad-7738-4f4a-aa35-8f7ee87ea395",
   "metadata": {},
   "source": [
    "## Problem 4\n",
    "## Exact Change (4 points)\n",
    "\n",
    "Part of a cashier's job is to give exact change to customers. It can be difficult to mentally tally how many coins of each type (i.e., 1 peso, 25 centavos, 10 centavos, etc.) to give to a customer.  \n",
    "\n",
    "**Write a function called `problem_4` that takes 1 positional argument `amount` in centavos. The function should return a string that describes the appropriate amounts of each type of coin to give to the customer. The string should be formatted as follows:**  \n",
    "\n",
    "`\"1P:{num}/25C:{num}/10C:{num}/5C:{num}/1C:{num}\"`  \n",
    "\n",
    "**Use the fewest number of total coins possible.**  \n",
    "\n",
    "Example input/output:  \n",
    "`problem_4(105)` => `\"1P:1/25C:0/10C:0/5C:1/1C:0\"`  \n",
    "`problem_4(69)` => `\"1P:0/25C:2/10C:1/5C:1/1C:4\"`  "
   ]
  },
  {
   "cell_type": "code",
   "execution_count": 22,
   "id": "3899279e-d77b-49f6-a7ed-da43c631fff4",
   "metadata": {},
   "outputs": [
    {
     "data": {
      "text/plain": [
       "'1P: 0 /25C: 2 /10C: 1 /5C: 1 /1C: 4'"
      ]
     },
     "execution_count": 22,
     "metadata": {},
     "output_type": "execute_result"
    }
   ],
   "source": [
    "def problem_4(amount):\n",
    "    \n",
    "    onep = 0\n",
    "    twentyfivec = 0\n",
    "    tenc = 0\n",
    "    fivec = 0\n",
    "    onec = 0\n",
    "    \n",
    "    while amount != 0:\n",
    "        if amount >= 100:\n",
    "            amount = amount - 100\n",
    "            onep += 1\n",
    "        elif amount >= 25:\n",
    "            amount = amount - 25\n",
    "            twentyfivec += 1\n",
    "        elif amount >= 10:\n",
    "            amount = amount - 10\n",
    "            tenc += 1\n",
    "        elif amount >= 5:\n",
    "            amount = amount - 5\n",
    "            fivec += 1\n",
    "        else:\n",
    "            amount >= 1\n",
    "            amount = amount - 1\n",
    "            onec += 1\n",
    "        \n",
    "    return (\"1P: \" + str(onep) + \" /25C: \" + str(twentyfivec) + \" /10C: \" + str(tenc) + \" /5C: \" + str(fivec) + \" /1C: \" + str(onec))\n",
    "\n",
    "problem_4(69)"
   ]
  },
  {
   "cell_type": "markdown",
   "id": "a45e4549-fb1a-4a4e-aceb-1eb46ceaa2c2",
   "metadata": {},
   "source": [
    "## Problem 5\n",
    "## Invert Capitalization (3 points)  \n",
    "\n",
    "**Write a function called `problem_5` that takes 1 positional argument (string) `message`. The function should return a string whose uppercase letters are now lowercase and whose lowercase letters are now uppercase. Spaces should be left alone.**  \n",
    "\n",
    "Example input/output:  \n",
    "`problem_5(\"Test Me\")` => `\"tEST mE\"`  \n",
    "`problem_5(\"asSiGnmENt\")` => `\"ASsIgNMenT\"`  \n",
    "\n",
    "For your convenience:  \n",
    "1. The message will only ever consist of spaces, lowercase letters, and uppercase letters.  \n",
    "\n",
    "Hint: Research on `ord()` and `chr()`.  "
   ]
  },
  {
   "cell_type": "code",
   "execution_count": 45,
   "id": "df8d9597-cca1-44ef-b1c8-a0050d512d45",
   "metadata": {},
   "outputs": [
    {
     "data": {
      "text/plain": [
       "'ASsigNMenT'"
      ]
     },
     "execution_count": 45,
     "metadata": {},
     "output_type": "execute_result"
    }
   ],
   "source": [
    "def problem_5(message):\n",
    "    final_message = \"\"            \n",
    "    \n",
    "    for i in message:\n",
    "        if ord(i) == 32:\n",
    "            final_message = final_message + \" \"\n",
    "        elif ord(i) >= 65 and ord(i) <= 90:\n",
    "            final_message = final_message + chr(ord(i) + 32)\n",
    "        elif ord(i) >= 97 and ord(i) <= 122:\n",
    "            final_message = final_message + chr(ord(i) - 32)\n",
    "            \n",
    "    return(final_message)\n",
    "\n",
    "problem_5(\"asSIGnmENt\")"
   ]
  },
  {
   "cell_type": "code",
   "execution_count": null,
   "id": "15da3582",
   "metadata": {},
   "outputs": [],
   "source": []
  }
 ],
 "metadata": {
  "kernelspec": {
   "display_name": "Python 3",
   "language": "python",
   "name": "python3"
  },
  "language_info": {
   "codemirror_mode": {
    "name": "ipython",
    "version": 3
   },
   "file_extension": ".py",
   "mimetype": "text/x-python",
   "name": "python",
   "nbconvert_exporter": "python",
   "pygments_lexer": "ipython3",
   "version": "3.8.8"
  }
 },
 "nbformat": 4,
 "nbformat_minor": 5
}
